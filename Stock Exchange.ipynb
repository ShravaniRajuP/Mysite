{
 "cells": [
  {
   "cell_type": "code",
   "execution_count": 2,
   "metadata": {},
   "outputs": [],
   "source": [
    "class Player():\n",
    "    def __init__(self,name,amount = 600000):\n",
    "        self.player_name = name\n",
    "        self.player_amount = amount\n",
    "        self.player_cards = []\n",
    "        self.player_shares = {}\n",
    "\n",
    "    def __str__(self):\n",
    "        return self.player_name\n",
    "\n",
    "\n",
    "class Cards():\n",
    "    def __init__(self,company,value):\n",
    "        self.card_company = company\n",
    "        self.card_value = value\n",
    "    \n",
    "\n",
    "\n",
    "class Company():\n",
    "    def __init__(self,name,sp,cp):\n",
    "        \n",
    "        self.company_name = name\n",
    "        self.company_starting_price = sp\n",
    "        self.company_current_price = cp\n",
    "        self.company_total_shares = 200000\n",
    "\n",
    "    def __str__(self):\n",
    "        return self.company_name"
   ]
  },
  {
   "cell_type": "code",
   "execution_count": 3,
   "metadata": {},
   "outputs": [],
   "source": [
    "import random\n",
    "import time\n",
    "\n",
    "def create_company(list_of_companies):\n",
    "\n",
    "    price_range = [-30, -30, 30, 30, -25, -25, 25, 25, -20, -20, 20, 20,\n",
    "                   -15, -15, 15, 15, -10, -10, 10, 10, -5, -5, 5, 5]\n",
    "\n",
    "    list_cards = []\n",
    "    company_range = [8, 12, 12, 16, 20, 24]\n",
    "    i = 0\n",
    "    for company in list_of_companies.keys():\n",
    "\n",
    "        current_number = company_range[i]\n",
    "        a = -current_number\n",
    "        for value in price_range[a:]:\n",
    "            temp = Cards(company, value)\n",
    "            list_cards.append(temp)\n",
    "        i += 1\n",
    "\n",
    "    return list_cards\n",
    "\n",
    "\n",
    "def assign_cards(list_cards, player_list):\n",
    "    for player in player_list:\n",
    "        random.shuffle(list_cards)\n",
    "        player.player_cards = sorted(list_cards[:10],key=lambda x: x.card_company)\n",
    "        list_cards = list_cards[10:]\n",
    "\n",
    "\n",
    "\n",
    "def player_instance(num):\n",
    "    list_of_players = []\n",
    "    for player in range(num):\n",
    "        list_of_players.append(Player(\"Player{}\".format(player)))\n",
    "        \n",
    "    return list_of_players\n",
    "\n",
    "def round_robin(n):\n",
    "    for i in range(1000):\n",
    "        yield i%n\n",
    "        \n",
    "def game(turn): \n",
    "    while turn < 6:\n",
    "        try:\n",
    "            current_player = list_of_players[next(current_turn)]\n",
    "            print(\"Name : {} \\t Amount : {}\".format(current_player.player_name,current_player.player_amount))\n",
    "            print(\"Current Shares : {}\".format(current_player.player_shares))\n",
    "            print(\"Cards: \\n\")\n",
    "            for cards in current_player.player_cards:\n",
    "                print(cards.card_company,cards.card_value)\n",
    "\n",
    "            print(\"\\nPrice List: {} \\n\".format(list_of_companies))\n",
    "            choice = input(\"Enter your choice(buy/sell/pass): \\n\")\n",
    "            if choice == 'pass':\n",
    "                turn+=1\n",
    "                print(\"{} {}\".format(current_player.player_name,choice))\n",
    "                continue\n",
    "            elif choice == 'buy' or choice == 'sell':\n",
    "                print(\"\\n\",com_name_list)\n",
    "                com_num = int(input(\"Enter the company number: \\n\"))\n",
    "                company_name = com_name_list[com_num-1] \n",
    "                shares = int(input(\"Enter the number of shares: \\n\"))\n",
    "\n",
    "                if choice == 'buy':\n",
    "                    if current_player.player_amount >= shares*list_of_companies.get(company_name):\n",
    "                        current_player.player_amount -= shares*list_of_companies.get(company_name)\n",
    "                        current_player.player_shares[company_name] = current_player.player_shares.get(company_name,0) + shares\n",
    "                    else:\n",
    "                        print(\"Not enough money to buythe shares \\n\")\n",
    "                        continue\n",
    "                else:\n",
    "                    if current_player.player_shares.get(company_name,0) - shares >= 0:\n",
    "                        current_player.player_amount += shares*list_of_companies.get(company_name)\n",
    "                        current_player.player_shares[company_name] = current_player.player_shares.get(company_name,0) - shares\n",
    "                    else:\n",
    "                        print(\"Not enough shares to sell. \\n\")\n",
    "                        continue\n",
    "\n",
    "\n",
    "                print(\"{} {} {} {}\".format(current_player.player_name,choice,shares,company_name))\n",
    "                print(\"Name : {} \\t Amount : {}\".format(current_player.player_name,current_player.player_amount))\n",
    "                print(\"Current Shares : {}\".format(current_player.player_shares))\n",
    "            print('\\nEnd of turn {}'.format((turn+1)%3))\n",
    "            time.sleep(5)\n",
    "            turn += 1\n",
    "        except:\n",
    "            next(current_turn)\n",
    "            continue\n",
    "\n"
   ]
  },
  {
   "cell_type": "markdown",
   "metadata": {},
   "source": [
    "### Step One: Create Players and List of Cards and Initialize"
   ]
  },
  {
   "cell_type": "code",
   "execution_count": 4,
   "metadata": {},
   "outputs": [
    {
     "name": "stdout",
     "output_type": "stream",
     "text": [
      "Enter Number of Players: 2\n",
      "Player0 600000\n",
      "Player1 600000\n"
     ]
    }
   ],
   "source": [
    "list_of_companies = {'Wockhardt': 20, 'HDFC': 25, 'TATA': 40, 'ONGC': 55, 'Reliance': 75, 'Infosys': 80}\n",
    "com_name_list = list(list_of_companies.keys())\n",
    "number_of_players = int(input(\"Enter Number of Players: \"))\n",
    "list_of_players = player_instance(number_of_players)\n",
    "list_of_cards = create_company(list_of_companies)\n",
    "for player in list_of_players:\n",
    "    print(player.player_name,player.player_amount)\n",
    "    \n",
    "turn = 0\n",
    "rounds = 0\n",
    "assign_cards(list_of_cards,list_of_players)\n",
    "current_turn = round_robin(number_of_players)"
   ]
  },
  {
   "cell_type": "markdown",
   "metadata": {},
   "source": [
    "### Step Two: Start the game"
   ]
  },
  {
   "cell_type": "code",
   "execution_count": null,
   "metadata": {
    "scrolled": true
   },
   "outputs": [
    {
     "name": "stdout",
     "output_type": "stream",
     "text": [
      "Name : Player0 \t Amount : 600000\n",
      "Current Shares : {}\n",
      "Cards: \n",
      "\n",
      "HDFC -15\n",
      "Infosys -10\n",
      "Infosys 30\n",
      "Infosys -15\n",
      "Infosys -25\n",
      "ONGC -5\n",
      "ONGC -10\n",
      "Reliance 25\n",
      "Reliance 15\n",
      "Wockhardt -10\n",
      "\n",
      "Price List: {'Wockhardt': 20, 'HDFC': 25, 'TATA': 40, 'ONGC': 55, 'Reliance': 75, 'Infosys': 80} \n",
      "\n"
     ]
    }
   ],
   "source": [
    "while rounds < 2:\n",
    "    game(turn)\n",
    "    for cp in list_of_players:\n",
    "        for i in cp.player_cards:\n",
    "            list_of_companies[i.card_company] = list_of_companies[i.card_company] + i.card_value \n",
    "    print(\"\\nEnd of Round {}\\n\".format(rounds+1))\n",
    "    print(list_of_companies)\n",
    "    time.sleep(10)\n",
    "    turn = 0\n",
    "    next(current_turn)\n",
    "    assign_cards(list_of_cards,list_of_players)\n",
    "    rounds += 1\n",
    "    \n",
    "for current_player in list_of_players:\n",
    "    for shares in current_player.player_shares.keys():\n",
    "        current_player.player_amount += current_player.player_shares[shares] * list_of_companies[shares]\n",
    "        \n",
    "for current_player in list_of_players:\n",
    "    print(\"Name : {} \\t Amount : {}\".format(current_player.player_name,current_player.player_amount))\n",
    "    print(\"Current Shares : {}\".format(current_player.player_shares))"
   ]
  },
  {
   "cell_type": "code",
   "execution_count": 13,
   "metadata": {},
   "outputs": [
    {
     "name": "stdout",
     "output_type": "stream",
     "text": [
      "{'Wockhardt': 10, 'HDFC': 25, 'TATA': 55, 'ONGC': -5, 'Reliance': 105, 'Infosys': 110}\n"
     ]
    }
   ],
   "source": []
  },
  {
   "cell_type": "code",
   "execution_count": 32,
   "metadata": {},
   "outputs": [
    {
     "name": "stdout",
     "output_type": "stream",
     "text": [
      "{'Wockhardt': 40, 'HDFC': 20, 'TATA': 15, 'ONGC': 110, 'Reliance': 60, 'Infosys': 60}\n",
      "Name : Player0 \t Amount : 2745000\n",
      "Current Shares : {'ONGC': 0, 'Wockhardt': 0, 'HDFC': 0, 'TATA': 78000}\n",
      "Name : Player1 \t Amount : 3150000\n",
      "Current Shares : {'Wockhardt': 0, 'ONGC': 0, 'HDFC': 105000}\n"
     ]
    }
   ],
   "source": [
    "for cp in list_of_players:\n",
    "    for i in cp.player_cards:\n",
    "        list_of_companies[i.card_company] = list_of_companies[i.card_company] - i.card_value \n",
    "print(list_of_companies)"
   ]
  },
  {
   "cell_type": "code",
   "execution_count": null,
   "metadata": {},
   "outputs": [],
   "source": []
  }
 ],
 "metadata": {
  "kernelspec": {
   "display_name": "Python 3",
   "language": "python",
   "name": "python3"
  },
  "language_info": {
   "codemirror_mode": {
    "name": "ipython",
    "version": 3
   },
   "file_extension": ".py",
   "mimetype": "text/x-python",
   "name": "python",
   "nbconvert_exporter": "python",
   "pygments_lexer": "ipython3",
   "version": "3.7.4"
  }
 },
 "nbformat": 4,
 "nbformat_minor": 2
}
